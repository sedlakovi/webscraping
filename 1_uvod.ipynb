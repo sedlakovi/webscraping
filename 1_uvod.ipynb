{
 "cells": [
  {
   "cell_type": "markdown",
   "metadata": {
    "slideshow": {
     "slide_type": "slide"
    }
   },
   "source": [
    "# Úvod do webscrapingu\n",
    "\n",
    "## Nasta a Filip Sedlákovi\n",
    "\n",
    "## [sedlakovi.org](https://www.sedlakovi.org/)"
   ]
  },
  {
   "cell_type": "markdown",
   "metadata": {
    "slideshow": {
     "slide_type": "slide"
    }
   },
   "source": [
    "# Co je web scraping?\n",
    "\n",
    "- Taky \"web harvesting\" nebo \"web data extraction\"\n",
    "- Ziskávání dat z webových stránek\n",
    "- Klíčovým rysem je ziskávání dat z nestrukturovaného **pro počitače** obsahu"
   ]
  },
  {
   "cell_type": "markdown",
   "metadata": {
    "slideshow": {
     "slide_type": "subslide"
    }
   },
   "source": [
    "![](webscraping.png)"
   ]
  },
  {
   "cell_type": "markdown",
   "metadata": {
    "slideshow": {
     "slide_type": "slide"
    }
   },
   "source": [
    "# Příklady webscrapingu\n",
    "\n",
    "- [Black friday](https://blog.apify.com/black-friday-po-%C4%8Desku-kouzla-se-slevami-c7c0d2e7eeaa)\n",
    "- [Zjišťování rozsahu platů datových analytiků](https://towardsdatascience.com/scraping-indeed-for-job-salaries-e7ede688f169)\n",
    "- Zjišťování případné insolvence u stávajících zákazníků kreditní společnosti"
   ]
  },
  {
   "cell_type": "markdown",
   "metadata": {
    "slideshow": {
     "slide_type": "subslide"
    }
   },
   "source": [
    "![](black_friday.png)"
   ]
  },
  {
   "cell_type": "markdown",
   "metadata": {
    "slideshow": {
     "slide_type": "subslide"
    }
   },
   "source": [
    "![](data_science_salary.png)"
   ]
  },
  {
   "cell_type": "markdown",
   "metadata": {
    "slideshow": {
     "slide_type": "slide"
    }
   },
   "source": [
    "# Co není web scraping\n",
    "\n",
    "- Stahování strukturovaných dat (CSV, Excel, JSON)\n",
    "- Stahování dat pomocí API (Application Programming Interface)\n",
    "- Sémantické databáze (např. [WikiData](https://www.wikidata.org/wiki/Wikidata:Main_Page))\n",
    "- Mikroformáty - strukturní schémata pro specializované oblasti (např. [informace o filmech](https://schema.org/Movie))"
   ]
  },
  {
   "cell_type": "markdown",
   "metadata": {
    "slideshow": {
     "slide_type": "slide"
    }
   },
   "source": [
    "# Než začnete s web scrapingem\n",
    "\n",
    "- Zjistěte, zda\n",
    "    - Nelze jednoduše zkopirovat z webové stránky data do CSV nebo JSON souboru\n",
    "        - [Mapa kriminality](http://www.mapakriminality.cz/)\n",
    "    - Webové stránky neposkytují API pro extrakci strukturovaných dat\n",
    "        - [ČHMÚ](http://portal.chmi.cz/historicka-data/pocasi/denni-data#)"
   ]
  },
  {
   "cell_type": "markdown",
   "metadata": {
    "slideshow": {
     "slide_type": "slide"
    }
   },
   "source": [
    "# Web scraping z etické stránky\n",
    "\n",
    "- Zjistěte, jaká práva máte k datům\n",
    "    - Nepublikujte data nelegálně\n",
    "- Nerozbíjejte stránky\n",
    "    - Někdy je vhodné se předem domluvit s provozovatelem webové stránky\n",
    "- Publikujte svoje vlastní data tak, aby ostatní nemuseli použivat web scraping "
   ]
  }
 ],
 "metadata": {
  "celltoolbar": "Slideshow",
  "kernelspec": {
   "display_name": "Python 3",
   "language": "python",
   "name": "python3"
  },
  "language_info": {
   "codemirror_mode": {
    "name": "ipython",
    "version": 3
   },
   "file_extension": ".py",
   "mimetype": "text/x-python",
   "name": "python",
   "nbconvert_exporter": "python",
   "pygments_lexer": "ipython3",
   "version": "3.6.8"
  }
 },
 "nbformat": 4,
 "nbformat_minor": 2
}
