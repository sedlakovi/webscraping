{
 "cells": [
  {
   "cell_type": "markdown",
   "metadata": {
    "slideshow": {
     "slide_type": "slide"
    }
   },
   "source": [
    "# Z čeho se skládá webová stránka?\n",
    "\n",
    "- HTML (HyperText Markup Language) \n",
    "    - Obsah stránky\n",
    "- CSS (Cascading Style Sheets) \n",
    "    - Úprava vzhledu stránky\n",
    "- JavaScript \n",
    "    - Interaktivita obsahu a vzhledu stránky"
   ]
  },
  {
   "cell_type": "markdown",
   "metadata": {
    "slideshow": {
     "slide_type": "subslide"
    }
   },
   "source": [
    "![](html-css-javascript.png)\n",
    "[Zdroj](https://internetingishard.com/html-and-css/introduction/)"
   ]
  },
  {
   "cell_type": "markdown",
   "metadata": {
    "slideshow": {
     "slide_type": "slide"
    }
   },
   "source": [
    "# Formatovaný versus prostý text\n",
    "# Rich versus plain text\n",
    "\n",
    "- Formátovaný text\n",
    "    - Umožňuje jednoduché formatování (odsazení, styl textu, barva textu, atd.) \n",
    "    - Jedná se o datový formát, který není určen pro vytváření přímo člověkem, je potřeba použít speciální ediotr (např. Microsoft Word)\n",
    "    \n",
    "- Prostý text\n",
    "    - Obsahuje jenom konce řádků a mezery (a tabulátory atd.), nelze přidat další formatování\n",
    "    - Člověk může tento formát jednoduše vytvářet a upravovat\n"
   ]
  },
  {
   "cell_type": "markdown",
   "metadata": {
    "slideshow": {
     "slide_type": "subslide"
    }
   },
   "source": [
    "![](rich_plain1.png)"
   ]
  },
  {
   "cell_type": "markdown",
   "metadata": {
    "slideshow": {
     "slide_type": "subslide"
    }
   },
   "source": [
    "![](rich_plain2.png)"
   ]
  },
  {
   "cell_type": "markdown",
   "metadata": {
    "slideshow": {
     "slide_type": "subslide"
    }
   },
   "source": [
    "# Co ale když chceme mít prostý text s formatováním?\n",
    "\n",
    "- Lze použit **značkovací jazyk** (markup language)\n",
    "- Pomocí značkovacího jazyka můžeme přidat informaci o vzhledu, struktuře a vyznamu částí textu\n",
    "- Příklady značkovacích jazyků: TeX, XML a HTML\n"
   ]
  },
  {
   "cell_type": "markdown",
   "metadata": {},
   "source": [
    "# HTML (Hypertext Markup Language)\n",
    "\n",
    "- Jazyk pro tvorbu webových stránek\n",
    "- Hypertext - obsahuje odkazy\n",
    "- Markup language - Značkovací jazyk\n",
    "- Je tvořen HTML elementy - tagy (text v ostrých závorkách, např. `<head>`)\n",
    "- Většina HTML tagů je párová, např.  `<div>` a `</div>`"
   ]
  },
  {
   "cell_type": "markdown",
   "metadata": {},
   "source": [
    "| Jméno tagu \t| Kdy se používá?|\n",
    "| ------------- | ------------- |\n",
    "| p\t| Odstavec|\n",
    "| h1\t| Hlavní nadpis|\n",
    "| h2, h3, …\t| Nadpis 2, nadpis 3, atd.|\n",
    "| ul\t| Seznam s odrážkami |\n",
    "| ol\t| Číslovaný seznam |\n",
    "| li\t| Položka seznamu|\n",
    "| img\t| Obrázek|\n",
    "| table\t| Tabulka|\n",
    "| tr\t| Řádek v tabulce|\n",
    "| td\t| Buňka v tabulce|\n",
    "| a\t| Odkaz|\n",
    "| div\t| Blok bez dalšího významu|\n",
    "| meta\t| Informace o dokumentu pro počitače, např. popisek na Facebooku|\n",
    "| i, em, b, strong | Zvýraznění textu (kurziva, tučně) |"
   ]
  },
  {
   "cell_type": "markdown",
   "metadata": {
    "slideshow": {
     "slide_type": "slide"
    }
   },
   "source": [
    "# Jak uděláme s čístého HTML hezkou stránku?\n",
    "![](html_css.png)"
   ]
  },
  {
   "cell_type": "markdown",
   "metadata": {
    "slideshow": {
     "slide_type": "subslide"
    }
   },
   "source": [
    "# CSS (Cascading Style Sheets) - Kaskádové styly\n",
    "\n",
    "- Používá se k popisu způsobu zobrazení HTML a XML elementů\n",
    "- Skládá se s pravidel \n",
    "- Obsahuje 2 částí\n",
    "    - Selektor\n",
    "    - Blok deklarace\n",
    "        - Deklarace jsou oddělené středníky `;`\n",
    "        - Každá deklarace sestává z `identifikátor_vlastnosti:  hodnota_vlastnosti`"
   ]
  },
  {
   "cell_type": "markdown",
   "metadata": {
    "slideshow": {
     "slide_type": "subslide"
    }
   },
   "source": [
    "# Příklad CSS\n",
    "\n",
    "```css\n",
    "table {\n",
    "    border-collapse: collapse;\n",
    "    border-spacing: 0;\n",
    "    font-size: 1em\n",
    "}\n",
    "```"
   ]
  },
  {
   "cell_type": "markdown",
   "metadata": {
    "slideshow": {
     "slide_type": "subslide"
    }
   },
   "source": [
    "| Selektor | Druh | Popis | Příklad |\n",
    "| :------------- | :------------- | :------------- | :------------- |\n",
    "| `*`\t | Univerzální selektor | Všechny elementy v HTML dokumentu |  |\n",
    "| `tag`  | Selektor typu tagu  | Všechny tagy typu `tag` | `li`  |\n",
    "| `tag1, tag2`  | Selektor typu tagu  | Všechny tagy typu `tag1` a `tag2` | `div, p`  |\n",
    "| `tag1 tag2`  | Selektor typu tagu  | Všechny tagy typu `tag2` uvnitř `tag1` | `div p`  |\n",
    "| `.name`  | Selektor třídy  | Všechny elementy, které mají třídu `name` | `.fancy-checkbox`  |\n",
    "| `.name1 .name2`  | Selektor třídy  | Všechny elementy, které mají třídu `name2` a jsou potomky elemetu s třídou `name2` | `.fancy-div .fancy-checkbox`  |\n",
    "| `#name`  | Selektor ID | Všechny elementy, které mají ID `name` |  `#consentState` |\n",
    "| `[attr]` | Selektor vlastnosti | Všechny elementy s vlastností `attr` | `[display]` |\n",
    "| `[attr=value]` | Selektor vlastnosti | Všechny elementy s vlastností `attr`, jejíž hodnota je `value` | `[display=block]` |\n",
    "| `[attr=\"value\"]` | Selektor vlastnosti | Totéž, ale může obsahovat i interpunkci | `[border=\".125rem solid #e1e1e1\"]`|\n",
    "| `:nth-child(n)` | Pseudo-třída | Všechny elementy které jsou nté dítě jejích rodiče (vyjímá uzly textu a vlastností)| `p:nth-child(2)`|\n",
    "| `:nth-of-type(n)` | Pseudo-třída | Všechny elementy které jsou nté dítě rodiče se stejným tagem | `p:nth-of-type(2)`|"
   ]
  },
  {
   "cell_type": "markdown",
   "metadata": {
    "slideshow": {
     "slide_type": "subslide"
    }
   },
   "source": [
    "# Cvíčení\n",
    "\n",
    "- Projděte úkoly na [této stránce](https://flukeout.github.io/), minimálně polovinu (16 z 32)"
   ]
  },
  {
   "cell_type": "code",
   "execution_count": null,
   "metadata": {},
   "outputs": [],
   "source": []
  }
 ],
 "metadata": {
  "celltoolbar": "Slideshow",
  "kernelspec": {
   "display_name": "Python 3",
   "language": "python",
   "name": "python3"
  },
  "language_info": {
   "codemirror_mode": {
    "name": "ipython",
    "version": 3
   },
   "file_extension": ".py",
   "mimetype": "text/x-python",
   "name": "python",
   "nbconvert_exporter": "python",
   "pygments_lexer": "ipython3",
   "version": "3.7.3"
  }
 },
 "nbformat": 4,
 "nbformat_minor": 2
}
