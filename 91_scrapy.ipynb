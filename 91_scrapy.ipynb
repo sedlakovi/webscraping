{
 "cells": [
  {
   "cell_type": "markdown",
   "metadata": {
    "slideshow": {
     "slide_type": "slide"
    }
   },
   "source": [
    "# Scrapování větších webů\n",
    "\n",
    "- Spider, crawler\n",
    "- Nechci kódovat logiku konkrétní stránky\n",
    "    - Např. chci prolézt 100 e-shopů\n",
    "- Jdu jako člověk - po odkazech"
   ]
  },
  {
   "cell_type": "markdown",
   "metadata": {
    "slideshow": {
     "slide_type": "slide"
    }
   },
   "source": [
    "## Knihovna Scrapy\n",
    "\n",
    "Potřebuji napsat:\n",
    "\n",
    "- URL, na kterých začínám\n",
    "- Logika, která data ze stránky získat\n",
    "- Logika, kam pokračovat\n",
    "\n",
    "Scrapy řeší:\n",
    "\n",
    "- Jak rychle stahovat\n",
    "- Již navštívené stránky\n",
    "- Export dat do různých formátů\n",
    "- Pamatování cookies\n",
    "- Organizace většího projektu\n",
    "    - Rozdělení jednotlivých fází čištění dat\n",
    "    - Znovupoužití logiky (autentikace, proxy, "
   ]
  },
  {
   "cell_type": "markdown",
   "metadata": {
    "slideshow": {
     "slide_type": "slide"
    }
   },
   "source": [
    "## Scrapy projekt lze exportovat do cloudu\n",
    "\n",
    "[scrapinghub.com](https://scrapinghub.com)\n",
    "\n",
    "- Mnoho IP adres\n",
    "- Více serverů\n",
    "- Pravidelné scrapování\n",
    "- Obcházení zákazů\n",
    "\n",
    "Alternativa v Javascriptu - [apify.com](https://apify.com)\n",
    "\n",
    "- Sbírka hotových projektů"
   ]
  },
  {
   "cell_type": "markdown",
   "metadata": {
    "slideshow": {
     "slide_type": "slide"
    }
   },
   "source": [
    "## Scrapy - ukázka"
   ]
  },
  {
   "cell_type": "code",
   "execution_count": 3,
   "metadata": {
    "slideshow": {
     "slide_type": "subslide"
    }
   },
   "outputs": [],
   "source": [
    "import scrapy\n",
    "\n",
    "\n",
    "class QuotesSpider(scrapy.Spider):\n",
    "    name = 'quotes'\n",
    "    start_urls = [\n",
    "        'http://quotes.toscrape.com/tag/humor/',\n",
    "    ]\n",
    "\n",
    "    def parse(self, response):\n",
    "        for quote in response.css('div.quote'):\n",
    "            yield {\n",
    "                'text': quote.css('span.text::text').get(),\n",
    "                'author': quote.xpath('span/small/text()').get(),\n",
    "            }\n",
    "\n",
    "        next_page = response.css('li.next a::attr(\"href\")').get()\n",
    "        if next_page is not None:\n",
    "            yield response.follow(next_page, self.parse)"
   ]
  },
  {
   "cell_type": "markdown",
   "metadata": {
    "slideshow": {
     "slide_type": "slide"
    }
   },
   "source": [
    "## Scrapy - ukázka 2\n",
    "\n",
    "(Jakoby e-shop)"
   ]
  },
  {
   "cell_type": "code",
   "execution_count": 2,
   "metadata": {
    "slideshow": {
     "slide_type": "subslide"
    }
   },
   "outputs": [],
   "source": [
    "import scrapy\n",
    "from scrapy.spiders import CrawlSpider, Rule\n",
    "from scrapy.linkextractors import LinkExtractor\n",
    "\n",
    "class MySpider(CrawlSpider):\n",
    "    name = 'example.com'\n",
    "    allowed_domains = ['example.com']\n",
    "    start_urls = ['http://www.example.com']\n",
    "\n",
    "    rules = (\n",
    "        # Extract links matching 'category.php' (but not matching 'subsection.php')\n",
    "        # and follow links from them (since no callback means follow=True by default).\n",
    "        Rule(LinkExtractor(allow=('category\\.php', ), deny=('subsection\\.php', ))),\n",
    "\n",
    "        # Extract links matching 'item.php' and parse them with the spider's method parse_item\n",
    "        Rule(LinkExtractor(allow=('item\\.php', )), callback='parse_item'),\n",
    "    )\n",
    "\n",
    "    def parse_item(self, response):\n",
    "        self.logger.info('Hi, this is an item page! %s', response.url)\n",
    "        item = scrapy.Item()\n",
    "        item['id'] = response.xpath('//td[@id=\"item_id\"]/text()').re(r'ID: (\\d+)')\n",
    "        item['name'] = response.xpath('//td[@id=\"item_name\"]/text()').get()\n",
    "        item['description'] = response.xpath('//td[@id=\"item_description\"]/text()').get()\n",
    "        item['link_text'] = response.meta['link_text']\n",
    "        return item"
   ]
  }
 ],
 "metadata": {
  "celltoolbar": "Slideshow",
  "kernelspec": {
   "display_name": "Python 3",
   "language": "python",
   "name": "python3"
  },
  "language_info": {
   "codemirror_mode": {
    "name": "ipython",
    "version": 3
   },
   "file_extension": ".py",
   "mimetype": "text/x-python",
   "name": "python",
   "nbconvert_exporter": "python",
   "pygments_lexer": "ipython3",
   "version": "3.7.3"
  }
 },
 "nbformat": 4,
 "nbformat_minor": 2
}
