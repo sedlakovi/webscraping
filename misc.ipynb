{
 "cells": [
  {
   "cell_type": "code",
   "execution_count": 1,
   "metadata": {},
   "outputs": [],
   "source": [
    "from bs4 import BeautifulSoup\n",
    "import requests"
   ]
  },
  {
   "cell_type": "code",
   "execution_count": 2,
   "metadata": {},
   "outputs": [],
   "source": [
    "html_doc = \"\"\"\n",
    "<html><head><title>Web scraping pro datovou analýzu v Pythonu - sedlakovi.org</title></head>\n",
    "<body>\n",
    "<p class=\"title\"><b>Web scraping pro datovou analýzu v Pythonu</b></p>\n",
    "\n",
    "<p class=\"description\">\n",
    "    Náš kurz Vás naučí jak lze snadno získávat data z webových stránek, \n",
    "    které můžete používat k následné analýze anebo reportingu. \n",
    "    Příkladem může být analýza kurzu měn, recenzí kaváren nebo cen zboží. \n",
    "    Náš kurz Vám ukáže celý postup od identifikace datového zdroje, \n",
    "    navržení vhodného scrapingu a přípravy dat pro následnou analýzu. \n",
    "</p>\n",
    "\n",
    "<p class=\"description\">\n",
    "    Naučíte se:\n",
    "    <ul>\n",
    "        <li>Strukturu HTML</li>\n",
    "        <li>Jak získat obsah webových stránek (knihovna requests)</li>\n",
    "        <li>Jak vybrat z tohoto obsahu jenom to, co nás zajímá (knihovna BeautifulSoup)</li>\n",
    "        <li>Jak následně data zpracovat (knihovna pandas)</li>\n",
    "    </ul>\n",
    "</p>\n",
    "\n",
    "<table>\n",
    "<tr> <th class=\"table-header\"> Naučím se pracovat s: </th>\n",
    "<td class=\"table-data\">\n",
    "<a href=\"http://docs.python-requests.org/en/master/\" class=\"library\" id=\"link1\">Requests</a>,\n",
    "<a href=\"https://www.crummy.com/software/BeautifulSoup/\"  class=\"library\" id=\"link2\">BeautifulSoup</a>,\n",
    "<a href=\"https://pandas.pydata.org/\" class=\"library\" id=\"link3\">Pandas</a>\n",
    "</td>\n",
    "</tr>\n",
    "</table>\n",
    "\"\"\""
   ]
  },
  {
   "cell_type": "code",
   "execution_count": 3,
   "metadata": {},
   "outputs": [],
   "source": [
    "soup = BeautifulSoup(html_doc, 'html.parser')"
   ]
  },
  {
   "cell_type": "markdown",
   "metadata": {},
   "source": [
    "# Cvičení 3.1\n",
    "\n",
    "Vyberte odstavec s třídou `title`.\n",
    "\n",
    "`Web scraping pro datovou analýzu v Pythonu`"
   ]
  },
  {
   "cell_type": "code",
   "execution_count": 4,
   "metadata": {},
   "outputs": [
    {
     "data": {
      "text/plain": [
       "'Web scraping pro datovou analýzu v Pythonu'"
      ]
     },
     "execution_count": 4,
     "metadata": {},
     "output_type": "execute_result"
    }
   ],
   "source": [
    "soup.find(class_='title').text"
   ]
  },
  {
   "cell_type": "code",
   "execution_count": 5,
   "metadata": {},
   "outputs": [
    {
     "data": {
      "text/plain": [
       "'Web scraping pro datovou analýzu v Pythonu'"
      ]
     },
     "execution_count": 5,
     "metadata": {},
     "output_type": "execute_result"
    }
   ],
   "source": [
    "soup.find(attrs={'class': 'title'}).text"
   ]
  },
  {
   "cell_type": "code",
   "execution_count": 6,
   "metadata": {
    "scrolled": true
   },
   "outputs": [
    {
     "data": {
      "text/plain": [
       "'Web scraping pro datovou analýzu v Pythonu'"
      ]
     },
     "execution_count": 6,
     "metadata": {},
     "output_type": "execute_result"
    }
   ],
   "source": [
    "soup.find(name='p', attrs={'class': 'title'}).text"
   ]
  },
  {
   "cell_type": "markdown",
   "metadata": {},
   "source": [
    "# Cvičení 3.2\n",
    "\n",
    "Vyberte všechny položky seznamu\n",
    "\n",
    "```\n",
    " <li>Strukturu HTML</li>\n",
    " <li>Jak získat obsah webových stránek (knihovna requests)</li>\n",
    " <li>Jak vybrat z tohoto obsahu jenom to, co nás zajímá (knihovna BeautifulSoup)</li>\n",
    " <li>Jak následně data zpracovat (knihovna pandas)</li>\n",
    "```\n",
    "\n",
    "** Bonus:** zbavte se HTML tagů (např. `Jak získat obsah webových stránek (knihovna requests)`). "
   ]
  },
  {
   "cell_type": "code",
   "execution_count": 7,
   "metadata": {
    "scrolled": true
   },
   "outputs": [
    {
     "data": {
      "text/plain": [
       "[<li>Strukturu HTML</li>,\n",
       " <li>Jak získat obsah webových stránek (knihovna requests)</li>,\n",
       " <li>Jak vybrat z tohoto obsahu jenom to, co nás zajímá (knihovna BeautifulSoup)</li>,\n",
       " <li>Jak následně data zpracovat (knihovna pandas)</li>]"
      ]
     },
     "execution_count": 7,
     "metadata": {},
     "output_type": "execute_result"
    }
   ],
   "source": [
    "soup.find_all('li')"
   ]
  },
  {
   "cell_type": "code",
   "execution_count": 8,
   "metadata": {},
   "outputs": [
    {
     "data": {
      "text/plain": [
       "['Strukturu HTML',\n",
       " 'Jak získat obsah webových stránek (knihovna requests)',\n",
       " 'Jak vybrat z tohoto obsahu jenom to, co nás zajímá (knihovna BeautifulSoup)',\n",
       " 'Jak následně data zpracovat (knihovna pandas)']"
      ]
     },
     "execution_count": 8,
     "metadata": {},
     "output_type": "execute_result"
    }
   ],
   "source": [
    "[li.text for li in soup.find_all('li')]"
   ]
  },
  {
   "cell_type": "markdown",
   "metadata": {},
   "source": [
    "# Cvičení 5.1\n",
    "\n",
    "Zjistěte na stránkach `https://www.seznam.cz/`, kdo má dnes svátek."
   ]
  },
  {
   "cell_type": "code",
   "execution_count": 9,
   "metadata": {
    "scrolled": true
   },
   "outputs": [
    {
     "data": {
      "text/plain": [
       "'Alan'"
      ]
     },
     "execution_count": 9,
     "metadata": {},
     "output_type": "execute_result"
    }
   ],
   "source": [
    "url = 'https://www.seznam.cz/'\n",
    "r = requests.get(url)\n",
    "soup = BeautifulSoup(r.text, 'html.parser')\n",
    "soup.find(class_='name-link').text"
   ]
  },
  {
   "cell_type": "markdown",
   "metadata": {},
   "source": [
    "# Cvičení 5.2\n",
    "\n",
    "Najděte které filmy se promítaly 8.8.2019 v kině Aero (první v seznamu abecedně seřazených kinech).\n",
    "\n",
    "`Je mi fajn s.r.o.`"
   ]
  },
  {
   "cell_type": "code",
   "execution_count": 10,
   "metadata": {},
   "outputs": [],
   "source": [
    "url = 'https://dokina.tiscali.cz/program-kin?date=2019-08-08&cinemasType=nonmulti&tab=cinemas&cinemasOrdering=title'\n",
    "r = requests.get(url)\n",
    "soup = BeautifulSoup(r.text, 'html.parser')"
   ]
  },
  {
   "cell_type": "code",
   "execution_count": 11,
   "metadata": {},
   "outputs": [],
   "source": [
    "program = soup.select_one('.program')"
   ]
  },
  {
   "cell_type": "code",
   "execution_count": 12,
   "metadata": {},
   "outputs": [
    {
     "data": {
      "text/plain": [
       "'Aero'"
      ]
     },
     "execution_count": 12,
     "metadata": {},
     "output_type": "execute_result"
    }
   ],
   "source": [
    "program.select_one('.cinema-info .name').text"
   ]
  },
  {
   "cell_type": "code",
   "execution_count": 13,
   "metadata": {
    "scrolled": true
   },
   "outputs": [
    {
     "data": {
      "text/plain": [
       "'Je mi fajn s.r.o.'"
      ]
     },
     "execution_count": 13,
     "metadata": {},
     "output_type": "execute_result"
    }
   ],
   "source": [
    "program.select_one('.program-table .name').text"
   ]
  },
  {
   "cell_type": "markdown",
   "metadata": {},
   "source": [
    "# Cvičení 5.3\n",
    "\n",
    "Vytvořte tabulku z [http://quotes.toscrape.com/](http://quotes.toscrape.com/), kde první sloupec bude jméno autora a druhý sloupec bude datum narození. autorů"
   ]
  },
  {
   "cell_type": "code",
   "execution_count": 14,
   "metadata": {},
   "outputs": [],
   "source": [
    "import pandas as pd"
   ]
  },
  {
   "cell_type": "code",
   "execution_count": 15,
   "metadata": {},
   "outputs": [
    {
     "data": {
      "text/plain": [
       "[<a href=\"/author/Albert-Einstein\">(about)</a>,\n",
       " <a href=\"/author/J-K-Rowling\">(about)</a>,\n",
       " <a href=\"/author/Albert-Einstein\">(about)</a>,\n",
       " <a href=\"/author/Jane-Austen\">(about)</a>,\n",
       " <a href=\"/author/Marilyn-Monroe\">(about)</a>,\n",
       " <a href=\"/author/Albert-Einstein\">(about)</a>,\n",
       " <a href=\"/author/Andre-Gide\">(about)</a>,\n",
       " <a href=\"/author/Thomas-A-Edison\">(about)</a>,\n",
       " <a href=\"/author/Eleanor-Roosevelt\">(about)</a>,\n",
       " <a href=\"/author/Steve-Martin\">(about)</a>]"
      ]
     },
     "execution_count": 15,
     "metadata": {},
     "output_type": "execute_result"
    }
   ],
   "source": [
    "url = 'http://quotes.toscrape.com'\n",
    "r = requests.get(url)\n",
    "soup = BeautifulSoup(r.text, 'html.parser')\n",
    "author_links = soup.select('a[href*=\"author\"]', href=True)\n",
    "author_links"
   ]
  },
  {
   "cell_type": "code",
   "execution_count": 16,
   "metadata": {
    "scrolled": true
   },
   "outputs": [
    {
     "data": {
      "text/html": [
       "<div>\n",
       "<style scoped>\n",
       "    .dataframe tbody tr th:only-of-type {\n",
       "        vertical-align: middle;\n",
       "    }\n",
       "\n",
       "    .dataframe tbody tr th {\n",
       "        vertical-align: top;\n",
       "    }\n",
       "\n",
       "    .dataframe thead th {\n",
       "        text-align: right;\n",
       "    }\n",
       "</style>\n",
       "<table border=\"1\" class=\"dataframe\">\n",
       "  <thead>\n",
       "    <tr style=\"text-align: right;\">\n",
       "      <th></th>\n",
       "      <th>Name</th>\n",
       "      <th>Date of birth</th>\n",
       "    </tr>\n",
       "  </thead>\n",
       "  <tbody>\n",
       "    <tr>\n",
       "      <th>0</th>\n",
       "      <td>Albert Einstein</td>\n",
       "      <td>March 14, 1879</td>\n",
       "    </tr>\n",
       "    <tr>\n",
       "      <th>1</th>\n",
       "      <td>J.K. Rowling</td>\n",
       "      <td>July 31, 1965</td>\n",
       "    </tr>\n",
       "    <tr>\n",
       "      <th>2</th>\n",
       "      <td>Albert Einstein</td>\n",
       "      <td>March 14, 1879</td>\n",
       "    </tr>\n",
       "    <tr>\n",
       "      <th>3</th>\n",
       "      <td>Jane Austen</td>\n",
       "      <td>December 16, 1775</td>\n",
       "    </tr>\n",
       "    <tr>\n",
       "      <th>4</th>\n",
       "      <td>Marilyn Monroe</td>\n",
       "      <td>June 01, 1926</td>\n",
       "    </tr>\n",
       "    <tr>\n",
       "      <th>5</th>\n",
       "      <td>Albert Einstein</td>\n",
       "      <td>March 14, 1879</td>\n",
       "    </tr>\n",
       "    <tr>\n",
       "      <th>6</th>\n",
       "      <td>André Gide</td>\n",
       "      <td>November 22, 1869</td>\n",
       "    </tr>\n",
       "    <tr>\n",
       "      <th>7</th>\n",
       "      <td>Thomas A. Edison</td>\n",
       "      <td>February 11, 1847</td>\n",
       "    </tr>\n",
       "    <tr>\n",
       "      <th>8</th>\n",
       "      <td>Eleanor Roosevelt</td>\n",
       "      <td>October 11, 1884</td>\n",
       "    </tr>\n",
       "    <tr>\n",
       "      <th>9</th>\n",
       "      <td>Steve Martin</td>\n",
       "      <td>August 14, 1945</td>\n",
       "    </tr>\n",
       "  </tbody>\n",
       "</table>\n",
       "</div>"
      ],
      "text/plain": [
       "                Name      Date of birth\n",
       "0    Albert Einstein     March 14, 1879\n",
       "1       J.K. Rowling      July 31, 1965\n",
       "2    Albert Einstein     March 14, 1879\n",
       "3        Jane Austen  December 16, 1775\n",
       "4     Marilyn Monroe      June 01, 1926\n",
       "5    Albert Einstein     March 14, 1879\n",
       "6         André Gide  November 22, 1869\n",
       "7   Thomas A. Edison  February 11, 1847\n",
       "8  Eleanor Roosevelt   October 11, 1884\n",
       "9       Steve Martin    August 14, 1945"
      ]
     },
     "execution_count": 16,
     "metadata": {},
     "output_type": "execute_result"
    }
   ],
   "source": [
    "authors = [['Name', 'Date of birth']]\n",
    "for author in author_links:\n",
    "    url = 'http://quotes.toscrape.com{}'.format(author['href'])\n",
    "    r = requests.get(url)\n",
    "    soup = BeautifulSoup(r.text, 'html.parser')\n",
    "    authors.append([\n",
    "        soup.select_one('.author-title').text, soup.select_one('.author-born-date').text\n",
    "    ])\n",
    "pd.DataFrame(authors[1:], columns=authors[0])    "
   ]
  },
  {
   "cell_type": "code",
   "execution_count": null,
   "metadata": {},
   "outputs": [],
   "source": []
  }
 ],
 "metadata": {
  "kernelspec": {
   "display_name": "Python 3",
   "language": "python",
   "name": "python3"
  },
  "language_info": {
   "codemirror_mode": {
    "name": "ipython",
    "version": 3
   },
   "file_extension": ".py",
   "mimetype": "text/x-python",
   "name": "python",
   "nbconvert_exporter": "python",
   "pygments_lexer": "ipython3",
   "version": "3.7.3"
  }
 },
 "nbformat": 4,
 "nbformat_minor": 2
}
