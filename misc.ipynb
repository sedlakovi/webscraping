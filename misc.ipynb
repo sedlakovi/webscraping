{
 "cells": [
  {
   "cell_type": "code",
   "execution_count": 1,
   "metadata": {},
   "outputs": [],
   "source": [
    "from bs4 import BeautifulSoup"
   ]
  },
  {
   "cell_type": "code",
   "execution_count": 2,
   "metadata": {},
   "outputs": [],
   "source": [
    "html_doc = \"\"\"\n",
    "<html><head><title>Web scraping pro datovou analýzu v Pythonu - sedlakovi.org</title></head>\n",
    "<body>\n",
    "<p class=\"title\"><b>Web scraping pro datovou analýzu v Pythonu</b></p>\n",
    "\n",
    "<p class=\"description\">\n",
    "    Náš kurz Vás naučí jak lze snadno získávat data z webových stránek, \n",
    "    které můžete používat k následné analýze anebo reportingu. \n",
    "    Příkladem může být analýza kurzu měn, recenzí kaváren nebo cen zboží. \n",
    "    Náš kurz Vám ukáže celý postup od identifikace datového zdroje, \n",
    "    navržení vhodného scrapingu a přípravy dat pro následnou analýzu. \n",
    "</p>\n",
    "\n",
    "<p class=\"description\">\n",
    "    Naučíte se:\n",
    "    <ul>\n",
    "        <li>Strukturu HTML</li>\n",
    "        <li>Jak získat obsah webových stránek (knihovna requests)</li>\n",
    "        <li>Jak vybrat z tohoto obsahu jenom to, co nás zajímá (knihovna BeautifulSoup)</li>\n",
    "        <li>Jak následně data zpracovat (knihovna pandas)</li>\n",
    "    </ul>\n",
    "</p>\n",
    "\n",
    "<table>\n",
    "<tr> <th class=\"table-header\"> Naučím se pracovat s: </th>\n",
    "<td class=\"table-data\">\n",
    "<a href=\"http://docs.python-requests.org/en/master/\" class=\"library\" id=\"link1\">Requests</a>,\n",
    "<a href=\"https://www.crummy.com/software/BeautifulSoup/\"  class=\"library\" id=\"link2\">BeautifulSoup</a>,\n",
    "<a href=\"https://pandas.pydata.org/\" class=\"library\" id=\"link3\">Pandas</a>\n",
    "</td>\n",
    "</tr>\n",
    "</table>\n",
    "\"\"\""
   ]
  },
  {
   "cell_type": "code",
   "execution_count": 3,
   "metadata": {},
   "outputs": [],
   "source": [
    "soup = BeautifulSoup(html_doc, 'html.parser')"
   ]
  },
  {
   "cell_type": "markdown",
   "metadata": {},
   "source": [
    "# Cvičení 3.1\n",
    "\n",
    "Vyberte odstavec s třídou `title`.\n",
    "\n",
    "`Web scraping pro datovou analýzu v Pythonu`"
   ]
  },
  {
   "cell_type": "code",
   "execution_count": 4,
   "metadata": {},
   "outputs": [
    {
     "data": {
      "text/plain": [
       "'Web scraping pro datovou analýzu v Pythonu'"
      ]
     },
     "execution_count": 4,
     "metadata": {},
     "output_type": "execute_result"
    }
   ],
   "source": [
    "soup.find(class_='title').text"
   ]
  },
  {
   "cell_type": "code",
   "execution_count": 5,
   "metadata": {},
   "outputs": [
    {
     "data": {
      "text/plain": [
       "'Web scraping pro datovou analýzu v Pythonu'"
      ]
     },
     "execution_count": 5,
     "metadata": {},
     "output_type": "execute_result"
    }
   ],
   "source": [
    "soup.find(attrs={'class': 'title'}).text"
   ]
  },
  {
   "cell_type": "code",
   "execution_count": 6,
   "metadata": {
    "scrolled": true
   },
   "outputs": [
    {
     "data": {
      "text/plain": [
       "'Web scraping pro datovou analýzu v Pythonu'"
      ]
     },
     "execution_count": 6,
     "metadata": {},
     "output_type": "execute_result"
    }
   ],
   "source": [
    "soup.find(name='p', attrs={'class': 'title'}).text"
   ]
  },
  {
   "cell_type": "markdown",
   "metadata": {},
   "source": [
    "# Cvičení 3.2\n",
    "\n",
    "Vyberte všechny položky seznamu\n",
    "\n",
    "```\n",
    " <li>Strukturu HTML</li>\n",
    " <li>Jak získat obsah webových stránek (knihovna requests)</li>\n",
    " <li>Jak vybrat z tohoto obsahu jenom to, co nás zajímá (knihovna BeautifulSoup)</li>\n",
    " <li>Jak následně data zpracovat (knihovna pandas)</li>\n",
    "```\n",
    "\n",
    "** Bonus:** zbavte se HTML tagů (např. `Jak získat obsah webových stránek (knihovna requests)`). "
   ]
  },
  {
   "cell_type": "code",
   "execution_count": 7,
   "metadata": {
    "scrolled": true
   },
   "outputs": [
    {
     "data": {
      "text/plain": [
       "[<li>Strukturu HTML</li>,\n",
       " <li>Jak získat obsah webových stránek (knihovna requests)</li>,\n",
       " <li>Jak vybrat z tohoto obsahu jenom to, co nás zajímá (knihovna BeautifulSoup)</li>,\n",
       " <li>Jak následně data zpracovat (knihovna pandas)</li>]"
      ]
     },
     "execution_count": 7,
     "metadata": {},
     "output_type": "execute_result"
    }
   ],
   "source": [
    "soup.find_all('li')"
   ]
  },
  {
   "cell_type": "code",
   "execution_count": 8,
   "metadata": {},
   "outputs": [
    {
     "data": {
      "text/plain": [
       "['Strukturu HTML',\n",
       " 'Jak získat obsah webových stránek (knihovna requests)',\n",
       " 'Jak vybrat z tohoto obsahu jenom to, co nás zajímá (knihovna BeautifulSoup)',\n",
       " 'Jak následně data zpracovat (knihovna pandas)']"
      ]
     },
     "execution_count": 8,
     "metadata": {},
     "output_type": "execute_result"
    }
   ],
   "source": [
    "[li.text for li in soup.find_all('li')]"
   ]
  },
  {
   "cell_type": "code",
   "execution_count": null,
   "metadata": {},
   "outputs": [],
   "source": []
  }
 ],
 "metadata": {
  "kernelspec": {
   "display_name": "Python 3",
   "language": "python",
   "name": "python3"
  },
  "language_info": {
   "codemirror_mode": {
    "name": "ipython",
    "version": 3
   },
   "file_extension": ".py",
   "mimetype": "text/x-python",
   "name": "python",
   "nbconvert_exporter": "python",
   "pygments_lexer": "ipython3",
   "version": "3.7.3"
  }
 },
 "nbformat": 4,
 "nbformat_minor": 2
}
