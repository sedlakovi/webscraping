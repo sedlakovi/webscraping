{
 "cells": [
  {
   "cell_type": "markdown",
   "metadata": {},
   "source": [
    "Knihovna [`BeautifulSoup`](https://www.crummy.com/software/BeautifulSoup/bs4/doc/) je pro ziskání dat ze souborů HTML a XML. Tato knihovna pracuje s různými `parsery` (program, která dělá syntaktickou analýzu textu) pro hledání a modifikování souborů. "
   ]
  },
  {
   "cell_type": "code",
   "execution_count": 1,
   "metadata": {},
   "outputs": [],
   "source": [
    "# Načteme knihovnu, pomocí které budeme pracovat s HTML\n",
    "from bs4 import BeautifulSoup"
   ]
  },
  {
   "cell_type": "code",
   "execution_count": 2,
   "metadata": {},
   "outputs": [],
   "source": [
    "# Tady je náš vzorový HTML\n",
    "html_doc = \"\"\"\n",
    "<html><head><title>Web scraping pro datovou analýzu v Pythonu - sedlakovi.org</title></head>\n",
    "<body>\n",
    "<p class=\"title\"><b>Web scraping pro datovou analýzu v Pythonu</b></p>\n",
    "\n",
    "<p class=\"description\">\n",
    "    Náš kurz Vás naučí jak lze snadno získávat data z webových stránek, \n",
    "    které můžete používat k následné analýze anebo reportingu. \n",
    "    Příkladem může být analýza kurzu měn, recenzí kaváren nebo cen zboží. \n",
    "    Náš kurz Vám ukáže celý postup od identifikace datového zdroje, \n",
    "    navržení vhodného scrapingu a přípravy dat pro následnou analýzu. \n",
    "</p>\n",
    "\n",
    "<p class=\"description\">\n",
    "    Naučíte se:\n",
    "    <ul>\n",
    "        <li>Strukturu HTML</li>\n",
    "        <li>Jak získat obsah webových stránek (knihovna requests)</li>\n",
    "        <li>Jak vybrat z tohoto obsahu jenom to, co nás zajímá (knihovna BeautifulSoup)</li>\n",
    "        <li>Jak následně data zpracovat (knihovna pandas)</li>\n",
    "    </ul>\n",
    "</p>\n",
    "\n",
    "<table>\n",
    "<tr> <th class=\"table-header\"> Naučím se pracovat s: </th>\n",
    "<td class=\"table-data\">\n",
    "<a href=\"http://docs.python-requests.org/en/master/\" class=\"library\" id=\"link1\">Requests</a>,\n",
    "<a href=\"https://www.crummy.com/software/BeautifulSoup/\"  class=\"library\" id=\"link2\">BeautifulSoup</a>,\n",
    "<a href=\"https://pandas.pydata.org/\" class=\"library\" id=\"link3\">Pandas</a>\n",
    "</td>\n",
    "</tr>\n",
    "</table>\n",
    "\"\"\""
   ]
  },
  {
   "cell_type": "markdown",
   "metadata": {},
   "source": [
    "Převedeme HTML dokument na `BeautifulSoup` objekt, který reprezentuje dokument jako vnořenou datovou strukturu."
   ]
  },
  {
   "cell_type": "code",
   "execution_count": 3,
   "metadata": {},
   "outputs": [
    {
     "name": "stdout",
     "output_type": "stream",
     "text": [
      "<html>\n",
      " <head>\n",
      "  <title>\n",
      "   Web scraping pro datovou analýzu v Pythonu - sedlakovi.org\n",
      "  </title>\n",
      " </head>\n",
      " <body>\n",
      "  <p class=\"title\">\n",
      "   <b>\n",
      "    Web scraping pro datovou analýzu v Pythonu\n",
      "   </b>\n",
      "  </p>\n",
      "  <p class=\"description\">\n",
      "   Náš kurz Vás naučí jak lze snadno získávat data z webových stránek, \n",
      "    které můžete používat k následné analýze anebo reportingu. \n",
      "    Příkladem může být analýza kurzu měn, recenzí kaváren nebo cen zboží. \n",
      "    Náš kurz Vám ukáže celý postup od identifikace datového zdroje, \n",
      "    navržení vhodného scrapingu a přípravy dat pro následnou analýzu.\n",
      "  </p>\n",
      "  <p class=\"description\">\n",
      "   Naučíte se:\n",
      "   <ul>\n",
      "    <li>\n",
      "     Strukturu HTML\n",
      "    </li>\n",
      "    <li>\n",
      "     Jak získat obsah webových stránek (knihovna requests)\n",
      "    </li>\n",
      "    <li>\n",
      "     Jak vybrat z tohoto obsahu jenom to, co nás zajímá (knihovna BeautifulSoup)\n",
      "    </li>\n",
      "    <li>\n",
      "     Jak následně data zpracovat (knihovna pandas)\n",
      "    </li>\n",
      "   </ul>\n",
      "  </p>\n",
      "  <table>\n",
      "   <tr>\n",
      "    <th class=\"table-header\">\n",
      "     Naučím se pracovat s:\n",
      "    </th>\n",
      "    <td class=\"table-data\">\n",
      "     <a class=\"library\" href=\"http://docs.python-requests.org/en/master/\" id=\"link1\">\n",
      "      Requests\n",
      "     </a>\n",
      "     ,\n",
      "     <a class=\"library\" href=\"https://www.crummy.com/software/BeautifulSoup/\" id=\"link2\">\n",
      "      BeautifulSoup\n",
      "     </a>\n",
      "     ,\n",
      "     <a class=\"library\" href=\"https://pandas.pydata.org/\" id=\"link3\">\n",
      "      Pandas\n",
      "     </a>\n",
      "    </td>\n",
      "   </tr>\n",
      "  </table>\n",
      " </body>\n",
      "</html>\n"
     ]
    }
   ],
   "source": [
    "soup = BeautifulSoup(html_doc, 'html.parser')\n",
    "# Vytiskneme hezky zformatované HTML\n",
    "print(soup.prettify())"
   ]
  },
  {
   "cell_type": "code",
   "execution_count": 4,
   "metadata": {},
   "outputs": [
    {
     "data": {
      "text/plain": [
       "bs4.BeautifulSoup"
      ]
     },
     "execution_count": 4,
     "metadata": {},
     "output_type": "execute_result"
    }
   ],
   "source": [
    "type(soup)"
   ]
  },
  {
   "cell_type": "code",
   "execution_count": 5,
   "metadata": {},
   "outputs": [
    {
     "data": {
      "text/plain": [
       "<title>Web scraping pro datovou analýzu v Pythonu - sedlakovi.org</title>"
      ]
     },
     "execution_count": 5,
     "metadata": {},
     "output_type": "execute_result"
    }
   ],
   "source": [
    "soup.title"
   ]
  },
  {
   "cell_type": "code",
   "execution_count": 6,
   "metadata": {},
   "outputs": [
    {
     "data": {
      "text/plain": [
       "'title'"
      ]
     },
     "execution_count": 6,
     "metadata": {},
     "output_type": "execute_result"
    }
   ],
   "source": [
    "soup.title.name"
   ]
  },
  {
   "cell_type": "code",
   "execution_count": 7,
   "metadata": {},
   "outputs": [
    {
     "data": {
      "text/plain": [
       "'Web scraping pro datovou analýzu v Pythonu - sedlakovi.org'"
      ]
     },
     "execution_count": 7,
     "metadata": {},
     "output_type": "execute_result"
    }
   ],
   "source": [
    "soup.title.string"
   ]
  },
  {
   "cell_type": "code",
   "execution_count": 8,
   "metadata": {},
   "outputs": [
    {
     "data": {
      "text/plain": [
       "'head'"
      ]
     },
     "execution_count": 8,
     "metadata": {},
     "output_type": "execute_result"
    }
   ],
   "source": [
    "soup.title.parent.name"
   ]
  },
  {
   "cell_type": "code",
   "execution_count": 9,
   "metadata": {},
   "outputs": [
    {
     "data": {
      "text/plain": [
       "<p class=\"title\"><b>Web scraping pro datovou analýzu v Pythonu</b></p>"
      ]
     },
     "execution_count": 9,
     "metadata": {},
     "output_type": "execute_result"
    }
   ],
   "source": [
    "# Ukáže první tag typu odstavec\n",
    "soup.p"
   ]
  },
  {
   "cell_type": "code",
   "execution_count": 10,
   "metadata": {},
   "outputs": [
    {
     "data": {
      "text/plain": [
       "['title']"
      ]
     },
     "execution_count": 10,
     "metadata": {},
     "output_type": "execute_result"
    }
   ],
   "source": [
    "soup.p['class']"
   ]
  },
  {
   "cell_type": "code",
   "execution_count": 11,
   "metadata": {},
   "outputs": [
    {
     "data": {
      "text/plain": [
       "<a class=\"library\" href=\"http://docs.python-requests.org/en/master/\" id=\"link1\">Requests</a>"
      ]
     },
     "execution_count": 11,
     "metadata": {},
     "output_type": "execute_result"
    }
   ],
   "source": [
    "soup.a"
   ]
  },
  {
   "cell_type": "code",
   "execution_count": 12,
   "metadata": {},
   "outputs": [
    {
     "data": {
      "text/plain": [
       "[<a class=\"library\" href=\"http://docs.python-requests.org/en/master/\" id=\"link1\">Requests</a>,\n",
       " <a class=\"library\" href=\"https://www.crummy.com/software/BeautifulSoup/\" id=\"link2\">BeautifulSoup</a>,\n",
       " <a class=\"library\" href=\"https://pandas.pydata.org/\" id=\"link3\">Pandas</a>]"
      ]
     },
     "execution_count": 12,
     "metadata": {},
     "output_type": "execute_result"
    }
   ],
   "source": [
    "soup.find_all('a')"
   ]
  },
  {
   "cell_type": "code",
   "execution_count": 13,
   "metadata": {},
   "outputs": [
    {
     "data": {
      "text/plain": [
       "[<a class=\"library\" href=\"http://docs.python-requests.org/en/master/\" id=\"link1\">Requests</a>,\n",
       " <a class=\"library\" href=\"https://www.crummy.com/software/BeautifulSoup/\" id=\"link2\">BeautifulSoup</a>,\n",
       " <a class=\"library\" href=\"https://pandas.pydata.org/\" id=\"link3\">Pandas</a>]"
      ]
     },
     "execution_count": 13,
     "metadata": {},
     "output_type": "execute_result"
    }
   ],
   "source": [
    "links = soup.find_all('a')\n",
    "links"
   ]
  },
  {
   "cell_type": "code",
   "execution_count": 14,
   "metadata": {},
   "outputs": [
    {
     "data": {
      "text/plain": [
       "'Requests'"
      ]
     },
     "execution_count": 14,
     "metadata": {},
     "output_type": "execute_result"
    }
   ],
   "source": [
    "links[0].text"
   ]
  },
  {
   "cell_type": "markdown",
   "metadata": {},
   "source": [
    "## Malá odbočka - list comprehensions\n",
    "\n",
    "[Dokumetace](https://docs.python.org/3/tutorial/datastructures.html#list-comprehensions)\n",
    "\n",
    "Elegantní způsob jak transformovat seznamy.\n",
    "\n",
    "Všechno, co se dá udělat pomocí list comprehensions ( nebo dict comprehensions) lze udelat i pomocí for smyčky."
   ]
  },
  {
   "cell_type": "code",
   "execution_count": 15,
   "metadata": {},
   "outputs": [
    {
     "data": {
      "text/plain": [
       "[1, 2, 3, 4, 5, 6]"
      ]
     },
     "execution_count": 15,
     "metadata": {},
     "output_type": "execute_result"
    }
   ],
   "source": [
    "# Zahřívací příklad: \n",
    "# nový seznam obsahuje všechny prvky původního seznamu\n",
    "my_list = [1,2,3,4,5,6]\n",
    "[item for item in my_list]"
   ]
  },
  {
   "cell_type": "code",
   "execution_count": 16,
   "metadata": {},
   "outputs": [
    {
     "data": {
      "text/plain": [
       "[100, 200, 300, 400, 500, 600]"
      ]
     },
     "execution_count": 16,
     "metadata": {},
     "output_type": "execute_result"
    }
   ],
   "source": [
    "# Nový seznam obsahuje všechny prvky původního, \n",
    "# ale každý prvek je vynásoben 100\n",
    "[item*100 for item in my_list]"
   ]
  },
  {
   "cell_type": "code",
   "execution_count": 17,
   "metadata": {},
   "outputs": [
    {
     "data": {
      "text/plain": [
       "[2, 4, 6]"
      ]
     },
     "execution_count": 17,
     "metadata": {},
     "output_type": "execute_result"
    }
   ],
   "source": [
    "# Nový seznam obsahuje jenom ty prvky seznamu, které jsou sudé\n",
    "[item for item in my_list if item%2 == 0]"
   ]
  },
  {
   "cell_type": "code",
   "execution_count": 18,
   "metadata": {},
   "outputs": [
    {
     "data": {
      "text/plain": [
       "['Requests', 'BeautifulSoup', 'Pandas']"
      ]
     },
     "execution_count": 18,
     "metadata": {},
     "output_type": "execute_result"
    }
   ],
   "source": [
    "links = soup.find_all('a')\n",
    "links_text = []\n",
    "for link in links:\n",
    "    links_text.append(link.text)\n",
    "links_text   "
   ]
  },
  {
   "cell_type": "code",
   "execution_count": 19,
   "metadata": {},
   "outputs": [
    {
     "data": {
      "text/plain": [
       "['Requests', 'BeautifulSoup', 'Pandas']"
      ]
     },
     "execution_count": 19,
     "metadata": {},
     "output_type": "execute_result"
    }
   ],
   "source": [
    "[link.text for link in links]"
   ]
  },
  {
   "cell_type": "code",
   "execution_count": 20,
   "metadata": {},
   "outputs": [
    {
     "data": {
      "text/plain": [
       "<a class=\"library\" href=\"https://pandas.pydata.org/\" id=\"link3\">Pandas</a>"
      ]
     },
     "execution_count": 20,
     "metadata": {},
     "output_type": "execute_result"
    }
   ],
   "source": [
    "soup.find(id=\"link3\")"
   ]
  },
  {
   "cell_type": "code",
   "execution_count": 21,
   "metadata": {},
   "outputs": [
    {
     "data": {
      "text/plain": [
       "'Pandas'"
      ]
     },
     "execution_count": 21,
     "metadata": {},
     "output_type": "execute_result"
    }
   ],
   "source": [
    "soup.find(id=\"link3\").text"
   ]
  },
  {
   "cell_type": "markdown",
   "metadata": {},
   "source": [
    "Když hledáme dle třídy, nemůžeme použit parametr `class`, jedná se o klíčové slovo v Pythonu. Proto musíme použit `class_`."
   ]
  },
  {
   "cell_type": "code",
   "execution_count": 22,
   "metadata": {},
   "outputs": [
    {
     "data": {
      "text/plain": [
       "<p class=\"description\">\n",
       "    Náš kurz Vás naučí jak lze snadno získávat data z webových stránek, \n",
       "    které můžete používat k následné analýze anebo reportingu. \n",
       "    Příkladem může být analýza kurzu měn, recenzí kaváren nebo cen zboží. \n",
       "    Náš kurz Vám ukáže celý postup od identifikace datového zdroje, \n",
       "    navržení vhodného scrapingu a přípravy dat pro následnou analýzu. \n",
       "</p>"
      ]
     },
     "execution_count": 22,
     "metadata": {},
     "output_type": "execute_result"
    }
   ],
   "source": [
    "soup.find(class_=\"description\")"
   ]
  },
  {
   "cell_type": "markdown",
   "metadata": {},
   "source": [
    "Anebo napsat `class` jako klíč v parametru `attrs`."
   ]
  },
  {
   "cell_type": "code",
   "execution_count": 23,
   "metadata": {},
   "outputs": [
    {
     "data": {
      "text/plain": [
       "<p class=\"description\">\n",
       "    Náš kurz Vás naučí jak lze snadno získávat data z webových stránek, \n",
       "    které můžete používat k následné analýze anebo reportingu. \n",
       "    Příkladem může být analýza kurzu měn, recenzí kaváren nebo cen zboží. \n",
       "    Náš kurz Vám ukáže celý postup od identifikace datového zdroje, \n",
       "    navržení vhodného scrapingu a přípravy dat pro následnou analýzu. \n",
       "</p>"
      ]
     },
     "execution_count": 23,
     "metadata": {},
     "output_type": "execute_result"
    }
   ],
   "source": [
    "soup.find(attrs={'class':'description'})"
   ]
  },
  {
   "cell_type": "code",
   "execution_count": 24,
   "metadata": {},
   "outputs": [
    {
     "data": {
      "text/plain": [
       "[<p class=\"description\">\n",
       "     Náš kurz Vás naučí jak lze snadno získávat data z webových stránek, \n",
       "     které můžete používat k následné analýze anebo reportingu. \n",
       "     Příkladem může být analýza kurzu měn, recenzí kaváren nebo cen zboží. \n",
       "     Náš kurz Vám ukáže celý postup od identifikace datového zdroje, \n",
       "     navržení vhodného scrapingu a přípravy dat pro následnou analýzu. \n",
       " </p>, <p class=\"description\">\n",
       "     Naučíte se:\n",
       "     <ul>\n",
       " <li>Strukturu HTML</li>\n",
       " <li>Jak získat obsah webových stránek (knihovna requests)</li>\n",
       " <li>Jak vybrat z tohoto obsahu jenom to, co nás zajímá (knihovna BeautifulSoup)</li>\n",
       " <li>Jak následně data zpracovat (knihovna pandas)</li>\n",
       " </ul>\n",
       " </p>]"
      ]
     },
     "execution_count": 24,
     "metadata": {},
     "output_type": "execute_result"
    }
   ],
   "source": [
    "soup.find_all(class_=\"description\")"
   ]
  },
  {
   "cell_type": "markdown",
   "metadata": {},
   "source": [
    "# Cvičení 3.1\n",
    "\n",
    "Vyberte odstavec s třídou `title`.\n",
    "\n",
    "`Web scraping pro datovou analýzu v Pythonu`"
   ]
  },
  {
   "cell_type": "code",
   "execution_count": null,
   "metadata": {},
   "outputs": [],
   "source": []
  },
  {
   "cell_type": "markdown",
   "metadata": {},
   "source": [
    "# Cvičení 3.2\n",
    "\n",
    "Vyberte všechny položky seznamu\n",
    "\n",
    "```\n",
    " <li>Strukturu HTML</li>\n",
    " <li>Jak získat obsah webových stránek (knihovna requests)</li>\n",
    " <li>Jak vybrat z tohoto obsahu jenom to, co nás zajímá (knihovna BeautifulSoup)</li>\n",
    " <li>Jak následně data zpracovat (knihovna pandas)</li>\n",
    "```\n",
    "\n",
    "** Bonus:** zbavte se HTML tagů (např. `Jak získat obsah webových stránek (knihovna requests)`). "
   ]
  },
  {
   "cell_type": "code",
   "execution_count": null,
   "metadata": {},
   "outputs": [],
   "source": []
  }
 ],
 "metadata": {
  "kernelspec": {
   "display_name": "Python 3",
   "language": "python",
   "name": "python3"
  },
  "language_info": {
   "codemirror_mode": {
    "name": "ipython",
    "version": 3
   },
   "file_extension": ".py",
   "mimetype": "text/x-python",
   "name": "python",
   "nbconvert_exporter": "python",
   "pygments_lexer": "ipython3",
   "version": "3.7.3"
  }
 },
 "nbformat": 4,
 "nbformat_minor": 2
}
