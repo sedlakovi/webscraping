{
 "cells": [
  {
   "cell_type": "markdown",
   "metadata": {},
   "source": [
    "# Úvod "
   ]
  },
  {
   "cell_type": "markdown",
   "metadata": {},
   "source": [
    "Knihovna `BeautifulSoup` je pro ziskání dat ze souborů HTML a XML. Tato knihovna pracuje s různými `parsery` (program, která dělá syntaktickou analýzu textu) pro hledání a modifikování souborů. "
   ]
  },
  {
   "cell_type": "code",
   "execution_count": 1,
   "metadata": {},
   "outputs": [],
   "source": [
    "# Načteme knihovnu, pomocí které budeme pracovat s HTML\n",
    "from bs4 import BeautifulSoup"
   ]
  },
  {
   "cell_type": "code",
   "execution_count": 2,
   "metadata": {},
   "outputs": [],
   "source": [
    "# Tady je náš vzorový HTML\n",
    "html_doc = \"\"\"\n",
    "<html><head><title>Web scraping pro datovou analýzu v Pythonu - sedlakovi.org</title></head>\n",
    "<body>\n",
    "<p class=\"title\"><b>Web scraping pro datovou analýzu v Pythonu</b></p>\n",
    "\n",
    "<p class=\"description\">\n",
    "    Náš kurz Vás naučí jak lze snadno získávat data z webových stránek, \n",
    "    které můžete používat k následné analýze anebo reportingu. \n",
    "    Příkladem může být analýza kurzu měn, recenzí kaváren nebo cen zboží. \n",
    "    Náš kurz Vám ukáže celý postup od identifikace datového zdroje, \n",
    "    navržení vhodného scrapingu a přípravy dat pro následnou analýzu. \n",
    "</p>\n",
    "\n",
    "<p class=\"description\">\n",
    "    Naučíte se:\n",
    "    <ul>\n",
    "        <li>Strukturu HTML</li>\n",
    "        <li>Jak získat obsah webových stránek (knihovna requests)</li>\n",
    "        <li>Jak vybrat z tohoto obsahu jenom to, co nás zajímá (knihovna BeautifulSoup)</li>\n",
    "        <li>Jak následně data zpracovat (knihovna pandas)</li>\n",
    "    </ul>\n",
    "</p>\n",
    "\n",
    "<table>\n",
    "<tr> <th class=\"table-header\"> Naučím se pracovat s: </th>\n",
    "<td class=\"table-data\">\n",
    "<a href=\"http://docs.python-requests.org/en/master/\" class=\"library\" id=\"link1\">Requests</a>,\n",
    "<a href=\"https://www.crummy.com/software/BeautifulSoup/\"  class=\"library\" id=\"link2\">BeautifulSoup</a>,\n",
    "<a href=\"https://pandas.pydata.org/\" class=\"library\" id=\"link3\">Pandas</a>\n",
    "</td>\n",
    "</tr>\n",
    "</table>\n",
    "\"\"\""
   ]
  },
  {
   "cell_type": "markdown",
   "metadata": {},
   "source": [
    "Převedeme HTML dokument na `BeautifulSoup` objekt, který reprezentuje dokument jako vnořenou datovou strukturu."
   ]
  },
  {
   "cell_type": "code",
   "execution_count": 3,
   "metadata": {},
   "outputs": [
    {
     "name": "stdout",
     "output_type": "stream",
     "text": [
      "<html>\n",
      " <head>\n",
      "  <title>\n",
      "   Web scraping pro datovou analýzu v Pythonu - sedlakovi.org\n",
      "  </title>\n",
      " </head>\n",
      " <body>\n",
      "  <p class=\"title\">\n",
      "   <b>\n",
      "    Web scraping pro datovou analýzu v Pythonu\n",
      "   </b>\n",
      "  </p>\n",
      "  <p class=\"description\">\n",
      "   Náš kurz Vás naučí jak lze snadno získávat data z webových stránek, \n",
      "    které můžete používat k následné analýze anebo reportingu. \n",
      "    Příkladem může být analýza kurzu měn, recenzí kaváren nebo cen zboží. \n",
      "    Náš kurz Vám ukáže celý postup od identifikace datového zdroje, \n",
      "    navržení vhodného scrapingu a přípravy dat pro následnou analýzu.\n",
      "  </p>\n",
      "  <p class=\"description\">\n",
      "   Naučíte se, jak:\n",
      "   <ul>\n",
      "    <li>\n",
      "     Strukturu HTML\n",
      "    </li>\n",
      "    <li>\n",
      "     Jak získat obsah webových stránek (knihovna requests)\n",
      "    </li>\n",
      "    <li>\n",
      "     Jak vybrat z tohoto obsahu jenom to, co nás zajímá (knihovna BeautifulSoup)\n",
      "    </li>\n",
      "    <li>\n",
      "     Jak následně data zpracovat (knihovna pandas)\n",
      "    </li>\n",
      "   </ul>\n",
      "  </p>\n",
      "  <table>\n",
      "   <tr>\n",
      "    <th class=\"table-header\">\n",
      "     Naučím se pracovat s:\n",
      "    </th>\n",
      "    <td class=\"table-data\">\n",
      "     <a class=\"library\" href=\"http://docs.python-requests.org/en/master/\" id=\"link1\">\n",
      "      Requests\n",
      "     </a>\n",
      "     ,\n",
      "     <a class=\"library\" href=\"https://www.crummy.com/software/BeautifulSoup/\" id=\"link2\">\n",
      "      BeautifulSoup\n",
      "     </a>\n",
      "     ,\n",
      "     <a class=\"library\" href=\"https://pandas.pydata.org/\" id=\"link3\">\n",
      "      Pandas\n",
      "     </a>\n",
      "    </td>\n",
      "   </tr>\n",
      "  </table>\n",
      " </body>\n",
      "</html>\n"
     ]
    }
   ],
   "source": [
    "soup = BeautifulSoup(html_doc, 'html.parser')\n",
    "\n",
    "print(soup.prettify())"
   ]
  },
  {
   "cell_type": "code",
   "execution_count": 4,
   "metadata": {},
   "outputs": [
    {
     "data": {
      "text/plain": [
       "<title>Web scraping pro datovou analýzu v Pythonu - sedlakovi.org</title>"
      ]
     },
     "execution_count": 4,
     "metadata": {},
     "output_type": "execute_result"
    }
   ],
   "source": [
    "soup.title"
   ]
  },
  {
   "cell_type": "code",
   "execution_count": 5,
   "metadata": {},
   "outputs": [
    {
     "data": {
      "text/plain": [
       "'title'"
      ]
     },
     "execution_count": 5,
     "metadata": {},
     "output_type": "execute_result"
    }
   ],
   "source": [
    "soup.title.name"
   ]
  },
  {
   "cell_type": "code",
   "execution_count": 7,
   "metadata": {},
   "outputs": [
    {
     "data": {
      "text/plain": [
       "'Web scraping pro datovou analýzu v Pythonu - sedlakovi.org'"
      ]
     },
     "execution_count": 7,
     "metadata": {},
     "output_type": "execute_result"
    }
   ],
   "source": [
    "soup.title.string"
   ]
  },
  {
   "cell_type": "code",
   "execution_count": 8,
   "metadata": {},
   "outputs": [
    {
     "data": {
      "text/plain": [
       "'head'"
      ]
     },
     "execution_count": 8,
     "metadata": {},
     "output_type": "execute_result"
    }
   ],
   "source": [
    "soup.title.parent.name"
   ]
  },
  {
   "cell_type": "code",
   "execution_count": 9,
   "metadata": {},
   "outputs": [
    {
     "data": {
      "text/plain": [
       "<p class=\"title\"><b>Web scraping pro datovou analýzu v Pythonu</b></p>"
      ]
     },
     "execution_count": 9,
     "metadata": {},
     "output_type": "execute_result"
    }
   ],
   "source": [
    "# Ukáže první tag typu odstavec\n",
    "soup.p"
   ]
  },
  {
   "cell_type": "code",
   "execution_count": 10,
   "metadata": {},
   "outputs": [
    {
     "data": {
      "text/plain": [
       "['title']"
      ]
     },
     "execution_count": 10,
     "metadata": {},
     "output_type": "execute_result"
    }
   ],
   "source": [
    "soup.p['class']"
   ]
  },
  {
   "cell_type": "code",
   "execution_count": 11,
   "metadata": {},
   "outputs": [
    {
     "data": {
      "text/plain": [
       "<a class=\"library\" href=\"http://docs.python-requests.org/en/master/\" id=\"link1\">Requests</a>"
      ]
     },
     "execution_count": 11,
     "metadata": {},
     "output_type": "execute_result"
    }
   ],
   "source": [
    "soup.a"
   ]
  },
  {
   "cell_type": "code",
   "execution_count": 12,
   "metadata": {},
   "outputs": [
    {
     "data": {
      "text/plain": [
       "[<a class=\"library\" href=\"http://docs.python-requests.org/en/master/\" id=\"link1\">Requests</a>,\n",
       " <a class=\"library\" href=\"https://www.crummy.com/software/BeautifulSoup/\" id=\"link2\">BeautifulSoup</a>,\n",
       " <a class=\"library\" href=\"https://pandas.pydata.org/\" id=\"link3\">Pandas</a>]"
      ]
     },
     "execution_count": 12,
     "metadata": {},
     "output_type": "execute_result"
    }
   ],
   "source": [
    "soup.find_all('a')"
   ]
  },
  {
   "cell_type": "code",
   "execution_count": 13,
   "metadata": {},
   "outputs": [
    {
     "data": {
      "text/plain": [
       "<a class=\"library\" href=\"https://pandas.pydata.org/\" id=\"link3\">Pandas</a>"
      ]
     },
     "execution_count": 13,
     "metadata": {},
     "output_type": "execute_result"
    }
   ],
   "source": [
    "soup.find(id=\"link3\")"
   ]
  },
  {
   "cell_type": "code",
   "execution_count": 15,
   "metadata": {},
   "outputs": [
    {
     "data": {
      "text/plain": [
       "<p class=\"description\">\n",
       "    Náš kurz Vás naučí jak lze snadno získávat data z webových stránek, \n",
       "    které můžete používat k následné analýze anebo reportingu. \n",
       "    Příkladem může být analýza kurzu měn, recenzí kaváren nebo cen zboží. \n",
       "    Náš kurz Vám ukáže celý postup od identifikace datového zdroje, \n",
       "    navržení vhodného scrapingu a přípravy dat pro následnou analýzu. \n",
       "</p>"
      ]
     },
     "execution_count": 15,
     "metadata": {},
     "output_type": "execute_result"
    }
   ],
   "source": [
    "soup.find(class_=\"description\")"
   ]
  },
  {
   "cell_type": "code",
   "execution_count": 16,
   "metadata": {},
   "outputs": [
    {
     "data": {
      "text/plain": [
       "[<p class=\"description\">\n",
       "     Náš kurz Vás naučí jak lze snadno získávat data z webových stránek, \n",
       "     které můžete používat k následné analýze anebo reportingu. \n",
       "     Příkladem může být analýza kurzu měn, recenzí kaváren nebo cen zboží. \n",
       "     Náš kurz Vám ukáže celý postup od identifikace datového zdroje, \n",
       "     navržení vhodného scrapingu a přípravy dat pro následnou analýzu. \n",
       " </p>, <p class=\"description\">\n",
       "     Naučíte se, jak:\n",
       "     <ul>\n",
       " <li>Strukturu HTML</li>\n",
       " <li>Jak získat obsah webových stránek (knihovna requests)</li>\n",
       " <li>Jak vybrat z tohoto obsahu jenom to, co nás zajímá (knihovna BeautifulSoup)</li>\n",
       " <li>Jak následně data zpracovat (knihovna pandas)</li>\n",
       " </ul>\n",
       " </p>]"
      ]
     },
     "execution_count": 16,
     "metadata": {},
     "output_type": "execute_result"
    }
   ],
   "source": [
    "soup.find_all(class_=\"description\")"
   ]
  },
  {
   "cell_type": "code",
   "execution_count": null,
   "metadata": {},
   "outputs": [],
   "source": []
  }
 ],
 "metadata": {
  "kernelspec": {
   "display_name": "Python 3",
   "language": "python",
   "name": "python3"
  },
  "language_info": {
   "codemirror_mode": {
    "name": "ipython",
    "version": 3
   },
   "file_extension": ".py",
   "mimetype": "text/x-python",
   "name": "python",
   "nbconvert_exporter": "python",
   "pygments_lexer": "ipython3",
   "version": "3.7.3"
  }
 },
 "nbformat": 4,
 "nbformat_minor": 2
}
